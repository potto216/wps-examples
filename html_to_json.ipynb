{
 "cells": [
  {
   "cell_type": "code",
   "execution_count": 1,
   "id": "289c8576-5c3b-4dcb-8c2d-0dbf90bd6ebd",
   "metadata": {},
   "outputs": [],
   "source": [
    "from bs4 import BeautifulSoup, Tag\n",
    "import json\n",
    "import os\n",
    "import re\n",
    "import base64\n",
    "\n",
    "def recursive_extract(tag, depth=0):\n",
    "    # Check if we've hit the bottom\n",
    "#    if not tag.find_all('ul'):\n",
    "#        key_value = re.split('[:|,]', tag.text.strip(), 1)\n",
    "#        if len(key_value) == 2:\n",
    "#            key = key_value[0].strip().replace(' ', '_')\n",
    "#            return {key: key_value[1].strip()+\"hi\", 'depth': depth}\n",
    "#        else:\n",
    "#            key = key_value[0].strip().replace(' ', '_')\n",
    "#            return {key: None, 'depth': depth}\n",
    "\n",
    "    data = {}\n",
    "    # Iterate over nested lists\n",
    "    for li in tag.find_all('li', recursive=False):\n",
    "        key_value = re.split('[:|,]', li.text.strip(), 1)\n",
    "        key = key_value[0].strip().replace(' ', '_') if len(key_value) > 0 else ''\n",
    "        ul = li.find('ul')\n",
    "        if ul:\n",
    "            data[key] = recursive_extract(ul, depth+1)\n",
    "        elif len(key_value) == 2:\n",
    "            data[key] = {'value': parse_hex_string(key_value[1].strip()), 'depth': depth}\n",
    "        else:\n",
    "            data[key] = {'value': None, 'depth': depth}\n",
    "\n",
    "    return data\n",
    "\n",
    "def html_to_json(html_file_path, json_file_path):\n",
    "    # Check if HTML file exists\n",
    "    if not os.path.isfile(html_file_path):\n",
    "        print(f\"The file {html_file_path} does not exist.\")\n",
    "        return\n",
    "\n",
    "    with open(html_file_path, 'r') as file:\n",
    "        # Parse HTML file content with BeautifulSoup\n",
    "        soup = BeautifulSoup(file, 'html.parser')\n",
    "\n",
    "    # The data dict will store the parsed HTML as JSON\n",
    "    data = {}\n",
    "\n",
    "    # Find all root-level <ul> tags and their content\n",
    "    for ul in soup.body.find_all('ul',{\"class\": \"ftstree\"}, recursive=False):\n",
    "        frame_key = re.split('[:|,]', ul.attrs.get('id', 'unknown frame'), 1)[0].strip().replace(' ', '_')\n",
    "        data[frame_key] = recursive_extract(ul)\n",
    "\n",
    "    # Write the JSON data to the output file\n",
    "    with open(json_file_path, 'w') as json_file:\n",
    "        json.dump(data, json_file, indent=4)\n",
    "\n",
    "    print(f\"JSON file has been created at {json_file_path}\")\n",
    "\n",
    "\n",
    "\n",
    "def bytes_to_base64(bytes_data):\n",
    "    return base64.b64encode(bytes_data).decode('utf-8')\n",
    "\n",
    "def base64_to_bytes(base64_string):\n",
    "    return base64.b64decode(base64_string.encode('utf-8'))\n",
    "\n",
    "\n",
    "def parse_hex_string(hex_string):\n",
    "    # Attempt to split string by comma\n",
    "    parts = hex_string.rsplit(',', 1)\n",
    "\n",
    "    text = parts[0]\n",
    "\n",
    "    # If there is no comma-separated part, return text and None for data\n",
    "    if len(parts) == 1 or not parts[1].strip():\n",
    "        return {'text': text, 'data': None}\n",
    "\n",
    "    data_text = parts[1]\n",
    "\n",
    "    # Find all two-digit hex digits (in reverse order)\n",
    "    data_text = re.findall(r'([a-fA-F0-9]{2})', data_text[::-1])\n",
    "\n",
    "    # Convert to byte array\n",
    "    data = bytes.fromhex(' '.join(data_text[::-1]))\n",
    "\n",
    "    # Convert byte array to base64 string\n",
    "    data_base64 = bytes_to_base64(data)\n",
    "\n",
    "    # Return dict\n",
    "    return {'text': text, 'data': data_base64}\n",
    "\n",
    "\n"
   ]
  },
  {
   "cell_type": "code",
   "execution_count": 2,
   "id": "d871f90e-10c0-4d5c-9bb3-99bfb6696e34",
   "metadata": {},
   "outputs": [
    {
     "name": "stdout",
     "output_type": "stream",
     "text": [
      "JSON file has been created at data/le_capture_20230625_181228.json\n"
     ]
    }
   ],
   "source": [
    "html_filename='data/Capture-2023-06-24_154423524117300_subset.htm'\n",
    "json_filename='data/Capture-2023-06-24_154423524117300_subset.json'\n",
    "\n",
    "html_filename='data/le_capture_20230625_181228.html'\n",
    "json_filename='data/le_capture_20230625_181228.json'\n",
    "# Use the function\n",
    "html_to_json(html_filename, json_filename)"
   ]
  },
  {
   "cell_type": "code",
   "execution_count": 32,
   "id": "4a896ca3-957d-416c-a978-3a920868e7db",
   "metadata": {},
   "outputs": [
    {
     "name": "stdout",
     "output_type": "stream",
     "text": [
      "JSON file has been created at data/Capture-2023-06-24_154423524117300_with_summary.json\n"
     ]
    }
   ],
   "source": [
    "\n",
    "html_filename='data/Capture-2023-06-24_154423524117300_with_summary.html'\n",
    "json_filename='data/Capture-2023-06-24_154423524117300_with_summary.json'\n",
    "# Use the function\n",
    "html_to_json(html_filename, json_filename)"
   ]
  },
  {
   "cell_type": "code",
   "execution_count": 26,
   "id": "511796cd-f362-4e50-826c-9a1b5e5e304b",
   "metadata": {},
   "outputs": [
    {
     "name": "stdout",
     "output_type": "stream",
     "text": [
      "{'text': '0xa89522', 'data': b'\\x8aY\"'}\n",
      "{'text': '0xa89522', 'data': None}\n",
      "{'text': '0xa89522', 'data': None}\n",
      "{'text': '0xa89522', 'data': b''}\n"
     ]
    }
   ],
   "source": [
    "# Test the function\n",
    "result = parse_hex_string(\"0xa89522,a8 95 22\")\n",
    "print(result)\n",
    "\n",
    "result = parse_hex_string(\"0xa89522,\")\n",
    "print(result)\n",
    "\n",
    "result = parse_hex_string(\"0xa89522\")\n",
    "print(result)\n",
    "\n",
    "result = parse_hex_string(\"0xa89522, test\")\n",
    "print(result)"
   ]
  }
 ],
 "metadata": {
  "kernelspec": {
   "display_name": "Python 3 (ipykernel)",
   "language": "python",
   "name": "python3"
  },
  "language_info": {
   "codemirror_mode": {
    "name": "ipython",
    "version": 3
   },
   "file_extension": ".py",
   "mimetype": "text/x-python",
   "name": "python",
   "nbconvert_exporter": "python",
   "pygments_lexer": "ipython3",
   "version": "3.10.4"
  }
 },
 "nbformat": 4,
 "nbformat_minor": 5
}
