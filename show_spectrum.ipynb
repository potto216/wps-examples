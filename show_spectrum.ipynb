{
 "cells": [
  {
   "cell_type": "code",
   "execution_count": null,
   "metadata": {},
   "outputs": [],
   "source": [
    "# Load the data\n",
    "import numpy as np\n",
    "import cv2\n",
    "import matplotlib.pyplot as plt\n",
    "\n",
    "# Load the CSV data into a 2D numpy array\n",
    "data = np.loadtxt('data/somefile.csv', delimiter=',', skiprows=1, usecols=range(2, 80), dtype=int)\n",
    "\n",
    "# Truncate and rotate the data 90 degrees counterclockwise\n",
    "data = data[0:400,:]\n",
    "data_rotated = np.rot90(data, 1)\n",
    "\n",
    "print(f\"Data shape: {data.shape}\")"
   ]
  },
  {
   "cell_type": "code",
   "execution_count": null,
   "metadata": {},
   "outputs": [],
   "source": [
    "# Show the data\n",
    "plt.figure(figsize=(10, 6))\n",
    "\n",
    "plt.imshow(np.rot90(data,1), cmap='hot', aspect='auto', interpolation='none')\n",
    "\n",
    "plt.colorbar(label='dB')\n",
    "plt.title('Spectrogram of Microwave Power 50%')\n",
    "plt.xlabel('Time (samples)')\n",
    "plt.ylabel('Frequency (bands)')\n",
    "plt.show()"
   ]
  },
  {
   "cell_type": "code",
   "execution_count": null,
   "metadata": {},
   "outputs": [],
   "source": [
    "\n",
    "# Normalize data to [0, 1]\n",
    "normalized_data = (data - np.min(data)) / (np.max(data) - np.min(data))\n",
    "\n",
    "# Scale to [0, 255]\n",
    "scaled_data =(normalized_data * 255).astype(np.uint8)\n",
    "print(f\"the data type is {data.dtype} and the scaled data is {scaled_data.dtype} and the shape is {normalized_data.shape}\")\n"
   ]
  },
  {
   "cell_type": "code",
   "execution_count": null,
   "metadata": {},
   "outputs": [],
   "source": [
    "# Threshold the data to consider only the highest values.\n",
    "# Here, we'll consider values greater than a chosen threshold. Adjust as needed.\n",
    "threshold_value = np.percentile(scaled_data, 98)  # let's consider top % of data values\n",
    "_, threshed_data = cv2.threshold(scaled_data, threshold_value, 255, cv2.THRESH_BINARY)\n",
    "\n",
    "# Convert data to 8-bit for OpenCV\n",
    "threshed_data_8bit = np.uint8(threshed_data)\n",
    "\n",
    "# Find contours\n",
    "contours, _ = cv2.findContours(threshed_data_8bit, cv2.RETR_EXTERNAL, cv2.CHAIN_APPROX_SIMPLE)\n",
    "\n",
    "# get contours of the original data\n",
    "contour_image = np.zeros_like(scaled_data)\n",
    "cv2.drawContours(contour_image, contours, -1, (255), 1)  # draw contours"
   ]
  },
  {
   "cell_type": "code",
   "execution_count": null,
   "metadata": {},
   "outputs": [],
   "source": [
    "# Rotate the image for easy plotting\n",
    "contour_image = np.rot90(contour_image, 1)\n",
    "data = np.rot90(data, 1)"
   ]
  },
  {
   "cell_type": "code",
   "execution_count": null,
   "metadata": {},
   "outputs": [],
   "source": [
    "# Plot the contour data\n",
    "plt.figure(figsize=(10, 6))\n",
    "# Plot the rotated data with zoom on the x-axis (which is now the y-axis of original data)\n",
    "plt.imshow(contour_image, cmap='gray', aspect='auto', interpolation='none')\n",
    "\n",
    "# Adjust x-axis to focus on the first 1000 columns\n",
    "plt.title('Contour of Spectrogram')\n",
    "plt.xlabel('Time (samples)')\n",
    "plt.ylabel('Frequency (bands)')\n",
    "plt.show()"
   ]
  },
  {
   "cell_type": "code",
   "execution_count": null,
   "metadata": {},
   "outputs": [],
   "source": [
    "# Apply  moprhological operations to clean up the image along with masking\n",
    "\n",
    "# Using a 5x5 kernel to erode the image\n",
    "#kernel = np.ones((1, 2), np.uint8)\n",
    "kernel = np.ones((2,1), np.uint8)\n",
    "eroded_data = cv2.erode(contour_image, kernel, iterations=1)\n",
    "\n",
    "# Dilate the eroded image\n",
    "#kernel = np.ones((4, 2), np.uint8)\n",
    "kernel = np.ones((2, 4), np.uint8)\n",
    "dilated_data = cv2.dilate(eroded_data, kernel, iterations=3)\n",
    "\n",
    "#kernel = np.ones((2, 2), np.uint8)\n",
    "kernel = np.ones((2, 2), np.uint8)\n",
    "final_data = cv2.erode(dilated_data, kernel, iterations=3)\n",
    "\n",
    "# Mask the data\n",
    "final_data[ 0:20,:] = 0\n",
    "final_data[ 60:,:] = 0\n",
    "\n",
    "\n",
    "# kernel = np.ones((25,45),np.uint8) # You might need to adjust the kernel size based on your image\n",
    "# final_data = cv2.morphologyEx(eroded_data, cv2.MORPH_CLOSE, kernel)"
   ]
  },
  {
   "cell_type": "code",
   "execution_count": null,
   "metadata": {},
   "outputs": [],
   "source": [
    "plt.figure(figsize=(10, 6))\n",
    "# Plot the rotated data with zoom on the x-axis (which is now the y-axis of original data)\n",
    "plt.imshow(final_data, cmap='gray', aspect='auto', interpolation='none')\n",
    "\n",
    "\n",
    "\n",
    "# Adjust x-axis to focus on the first 1000 columns\n",
    "plt.title('Cleaned up Contour of Spectrogram')\n",
    "plt.xlabel('Time (samples)')\n",
    "plt.ylabel('Frequency (bands)')\n",
    "plt.show()"
   ]
  },
  {
   "cell_type": "code",
   "execution_count": null,
   "metadata": {},
   "outputs": [],
   "source": [
    "from skimage.morphology import skeletonize\n",
    "# Skeletonize the image\n",
    "# Convert the image to a binary one (0 and 1)\n",
    "binary_image = final_data > 0\n",
    "skeleton = skeletonize(binary_image)\n",
    "\n",
    "# Convert the skeleton back to 8-bit for display\n",
    "skeleton_8bit = (skeleton * 255).astype(np.uint8)\n",
    "\n",
    "# Display the original and skeletonized images side by side\n",
    "plt.figure(figsize=(10,5))\n",
    "plt.subplot(1, 2, 1)\n",
    "plt.imshow(final_data, cmap='gray', aspect='auto', interpolation='none')\n",
    "plt.title('Original Image')\n",
    "plt.xlabel('Time (samples)')\n",
    "plt.ylabel('Frequency (bands)')\n",
    "\n",
    "plt.subplot(1, 2, 2)\n",
    "plt.imshow(skeleton_8bit, cmap='gray', aspect='auto', interpolation='none')\n",
    "plt.title('Skeletonized Image')\n",
    "plt.xlabel('Time (samples)')\n",
    "plt.ylabel('Frequency (bands)')\n",
    "\n",
    "plt.tight_layout()\n",
    "plt.show()"
   ]
  },
  {
   "cell_type": "code",
   "execution_count": null,
   "metadata": {},
   "outputs": [],
   "source": [
    "# Find the contours\n",
    "contours, _ = cv2.findContours(skeleton_8bit, cv2.RETR_EXTERNAL, cv2.CHAIN_APPROX_SIMPLE)"
   ]
  },
  {
   "cell_type": "code",
   "execution_count": null,
   "metadata": {},
   "outputs": [],
   "source": [
    "from scipy.interpolate import splprep, splev\n",
    "\n",
    "# Create a figure and axis\n",
    "fig, ax = plt.subplots()\n",
    "\n",
    "# Display the binary image\n",
    "ax.imshow(final_data, cmap='gray', aspect='auto', interpolation='none')\n",
    "#contours = contours[1:]\n",
    "# For each contour (arc in your image)\n",
    "for contour in contours:\n",
    "    # Reshape the contour to Nx2 format\n",
    "    points = contour.squeeze()\n",
    "\n",
    "    # Fit spline (B-spline)\n",
    "    tck, u = splprep(points.T, u=None, s=0.999, k=3,  per=False)\n",
    "\n",
    "    # Use this tck to generate new spline points\n",
    "    new_points = splev(u, tck)\n",
    "    ax.plot(new_points[0],new_points[1], 'r-', linewidth=2)\n",
    "\n",
    "# Show the plot\n",
    "plt.title('Contours with b-spline overlay')\n",
    "plt.xlabel('Time (samples)')\n",
    "plt.ylabel('Frequency (bands)')\n",
    "plt.show()"
   ]
  },
  {
   "cell_type": "code",
   "execution_count": null,
   "metadata": {},
   "outputs": [],
   "source": [
    "from scipy.interpolate import splprep, splev\n",
    "\n",
    "# Create a figure and axis\n",
    "fig, ax = plt.subplots()\n",
    "\n",
    "# Display the binary image\n",
    "ax.imshow(final_data, cmap='gray', aspect='auto', interpolation='none')\n",
    "#contours = contours[1:]\n",
    "# For each contour (arc in your image)\n",
    "for contour in contours:\n",
    "    # Reshape the contour to Nx2 format\n",
    "    points = contour.squeeze()\n",
    "\n",
    "    # Fit spline (B-spline)\n",
    "    tck, u = splprep(points.T, u=None, s=0.999, k=3,  per=False)\n",
    "\n",
    "    # Use this tck to generate new spline points\n",
    "    new_points = splev(u, tck)\n",
    "    ax.plot(new_points[0],new_points[1], 'r-', linewidth=2)\n",
    "\n",
    "# Show the plot\n",
    "plt.show()"
   ]
  },
  {
   "cell_type": "code",
   "execution_count": null,
   "metadata": {},
   "outputs": [],
   "source": [
    "# Use this tck to generate new spline points\n",
    "new_points = splev(u, tck)\n",
    "# Fit the points using a second-order polynomial\n",
    "coefficients = np.polyfit(new_points[0], new_points[1], 5)\n",
    "poly = np.poly1d(coefficients)\n",
    "\n",
    "# Use the polynomial to get the y-values of the quadratic arc for the x values\n",
    "ys_fit = poly(new_points[0])\n",
    "\n",
    "# Plot the spline points on a separate plot\n",
    "plt.figure(\"Spline Plot\")\n",
    "plt.plot(new_points[0], new_points[1], 'r-', linewidth=2)\n",
    "plt.plot(new_points[0], ys_fit, 'g-', label=\"Quadratic Fit\")\n",
    "plt.title(\"Spline Representation\")\n",
    "plt.show()"
   ]
  }
 ],
 "metadata": {
  "kernelspec": {
   "display_name": ".wps",
   "language": "python",
   "name": "python3"
  },
  "language_info": {
   "codemirror_mode": {
    "name": "ipython",
    "version": 3
   },
   "file_extension": ".py",
   "mimetype": "text/x-python",
   "name": "python",
   "nbconvert_exporter": "python",
   "pygments_lexer": "ipython3",
   "version": "3.10.4"
  },
  "orig_nbformat": 4
 },
 "nbformat": 4,
 "nbformat_minor": 2
}
