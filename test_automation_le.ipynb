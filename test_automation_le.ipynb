{
 "cells": [
  {
   "cell_type": "code",
   "execution_count": 1,
   "metadata": {},
   "outputs": [
    {
     "ename": "ImportError",
     "evalue": "cannot import name 'wps_export_html_json' from 'wpshelper' (/home/user/bluetooth/wps/wpshelper/wpshelper/__init__.py)",
     "output_type": "error",
     "traceback": [
      "\u001b[0;31m---------------------------------------------------------------------------\u001b[0m",
      "\u001b[0;31mImportError\u001b[0m                               Traceback (most recent call last)",
      "Cell \u001b[0;32mIn[1], line 14\u001b[0m\n\u001b[1;32m     12\u001b[0m \u001b[39mif\u001b[39;00m module_path \u001b[39mnot\u001b[39;00m \u001b[39min\u001b[39;00m sys\u001b[39m.\u001b[39mpath:\n\u001b[1;32m     13\u001b[0m     sys\u001b[39m.\u001b[39mpath\u001b[39m.\u001b[39mappend(module_path)\n\u001b[0;32m---> 14\u001b[0m \u001b[39mfrom\u001b[39;00m \u001b[39mwpshelper\u001b[39;00m \u001b[39mimport\u001b[39;00m wps_open, wps_configure, wps_start_record, wps_stop_record, wps_analyze_capture, wps_save_capture, wps_export_html_json, wps_close\n\u001b[1;32m     16\u001b[0m \u001b[39m# run the remote commands on a Linux machine\u001b[39;00m\n\u001b[1;32m     17\u001b[0m \u001b[39mdef\u001b[39;00m \u001b[39mrun_command\u001b[39m(command):\n",
      "\u001b[0;31mImportError\u001b[0m: cannot import name 'wps_export_html_json' from 'wpshelper' (/home/user/bluetooth/wps/wpshelper/wpshelper/__init__.py)"
     ]
    }
   ],
   "source": [
    "import socket\n",
    "import time\n",
    "import os\n",
    "import sys\n",
    "import platform\n",
    "from pathlib import Path\n",
    "import datetime as datetime\n",
    "import subprocess\n",
    "import re\n",
    "\n",
    "module_path = os.path.abspath(os.path.join('./wpshelper'))\n",
    "if module_path not in sys.path:\n",
    "    sys.path.append(module_path)\n",
    "from wpshelper import wps_open, wps_configure, wps_start_record, wps_stop_record, wps_analyze_capture, wps_save_capture, wps_export_html, wps_close\n",
    "\n",
    "# run the remote commands on a Linux machine\n",
    "def run_command(command):\n",
    "    if command is None:\n",
    "        command = \"ls\" # default command \n",
    "\n",
    "    # Run the command and capture the output\n",
    "    process = subprocess.Popen(command, stdout=subprocess.PIPE, stderr=subprocess.PIPE, text=True, shell=True)\n",
    "    stdout, stderr = process.communicate()\n",
    "    stdout_str = str(stdout)\n",
    "    # Check for errors\n",
    "    if process.returncode != 0:\n",
    "        log_entry = f\"run_command: An error occurred while executing the command {command}:\\n{stderr}\"\n",
    "    else:\n",
    "        log_entry = f\"run_command: Command output:\\n{stdout}\"\n",
    "    print(log_entry)\n",
    "    return stdout_str"
   ]
  },
  {
   "cell_type": "code",
   "execution_count": null,
   "metadata": {},
   "outputs": [],
   "source": [
    "\n",
    "# =======================START OF CONFIGURATION SECTION (USER MUST MODIFY TO MATCH THEIR SETTINGS)================\n",
    "# See the manual Automation Server Protocol.pdf for more details\n",
    "TCP_IP = '192.168.147.1'    # The IP address of the interface that the automation server is running on\n",
    "TCP_PORT = 22901        # The default port to talk with the automation server\n",
    "\n",
    "MAX_TO_READ = 1000\n",
    "\n",
    "# This will capture Bluetooth LE\n",
    "# This is described in the section \"IOParameters – Sodera and X500 of the Automation Server Protocol manual\n",
    "# IMPORTANT: This is ignored for the X240. For configurations that include one or more X240 devices, the capture \n",
    "# technology should be configured by using the appropriate datasource prior to starting capture via automation. \n",
    "# Configuration of capture technology and initiating firmware update are not supported via the automation interface. \n",
    "capture_technology = \"capturetechnology=bredr-off|le-on|2m-on|spectrum-off|wifi-off\"\n",
    "\n",
    "# Only one personality_key should be uncommented and it should be the device that is connected and powered up before\n",
    "# running the script. Additional personality keys to support other equipment and configurations \n",
    "# can be found under the section \"Start FTS\" in the Automation Server Protocol manual.\n",
    "#\n",
    "# Only uncomment one of the personality_key statements below:\n",
    "personality_key = \"SODERA\"\n",
    "# personality_key = \"X240\"  \n",
    "# personality_key = \"X500\"\n",
    "\n",
    "# Setup the path to the the location of FTS.exe. Change this to your directory\n",
    "wps_path=r'C:\\Program Files (x86)\\Teledyne LeCroy Wireless\\Wireless Protocol Suite 2.60'\n",
    "\n",
    "\n",
    "# This is the directory where the capture folder will be created. Make sure this path exists \n",
    "data_path=r'C:\\Users\\Public\\Documents\\share\\input'\n",
    "\n",
    "# This will be the name of the capture folder\n",
    "capture_name = 'le_capture_' + time.strftime(\"%Y%m%d_%H%M%S\")\n",
    "\n",
    "# ===================================END OF CONFIGURATION SECTION=====================================\n",
    "\n",
    "# Automatically derive the following data\n",
    "personality_key = personality_key.strip()  # remove any spaces\n",
    "\n",
    "capture_absolute_filename =  data_path + '\\\\' +  capture_name + \".cfa\" \n",
    "html_absolute_filename =  data_path + '\\\\' +  capture_name + \".html\" \n",
    "\n",
    "wps_executable_path = wps_path + '\\\\' +  'Executables\\\\Core'\n"
   ]
  },
  {
   "cell_type": "code",
   "execution_count": 5,
   "metadata": {},
   "outputs": [],
   "source": [
    "wps_handle = wps_open(tcp_ip=TCP_IP,tcp_port=TCP_PORT,max_to_read = 1000,wps_executable_path=wps_executable_path,personality_key=personality_key)"
   ]
  },
  {
   "cell_type": "code",
   "execution_count": 6,
   "metadata": {},
   "outputs": [],
   "source": [
    "wps_configure(wps_handle, personality_key,capture_technology)\n",
    "wps_start_record(wps_handle)\n"
   ]
  },
  {
   "cell_type": "code",
   "execution_count": 7,
   "metadata": {},
   "outputs": [],
   "source": [
    "wps_stop_record(wps_handle)\n",
    "wps_analyze_capture(wps_handle)\n",
    "wps_save_capture(wps_handle, capture_absolute_filename)"
   ]
  },
  {
   "cell_type": "code",
   "execution_count": 9,
   "metadata": {},
   "outputs": [],
   "source": [
    "wps_close(wps_handle)"
   ]
  },
  {
   "cell_type": "code",
   "execution_count": 8,
   "metadata": {},
   "outputs": [
    {
     "name": "stdout",
     "output_type": "stream",
     "text": [
      "wps_open: Trying connection. Receiving: b'TCP CONNECT;SUCCEEDED;Timestamp=7/9/2023 10:19:51 AM;Reason=C:\\\\Program Files (x86)\\\\Teledyne LeCroy Wireless\\\\Wireless Protocol Suite 2.60\\\\Executables\\\\Core\\\\\\r\\n'\n",
      "wps_open: s1 Sending: b'Start FTS;C:\\\\Program Files (x86)\\\\Teledyne LeCroy Wireless\\\\Wireless Protocol Suite 2.60\\\\Executables\\\\Core;SODERA'\n",
      "wps_open: s1 received: IS INITIALIZED;SUCCEEDED;Timestamp=7/9/2023 10:20:11 AM;Reason=yes\n",
      "\n",
      "wps_open: Received data parsed to ['IS INITIALIZED', 'SUCCEEDED', 'Timestamp=7/9/2023 10:20:11 AM', 'Reason=yes\\r\\n'], which indicates startup is not complete. Still waiting for the command START FTS with a status of SUCCEEDED.\n",
      "wps_open: s1 received: IS INITIALIZED;SUCCEEDED;Timestamp=7/9/2023 10:20:14 AM;Reason=yes\n",
      "\n",
      "wps_open: Received data parsed to ['IS INITIALIZED', 'SUCCEEDED', 'Timestamp=7/9/2023 10:20:14 AM', 'Reason=yes\\r\\n'], which indicates startup is not complete. Still waiting for the command START FTS with a status of SUCCEEDED.\n",
      "wps_open: s1 received: START FTS;SUCCEEDED;Timestamp=7/9/2023 10:20:28 AM\n",
      "\n",
      "wps_open: s2 Sending: b'Is Initialized'\n",
      "wps_open: s2 received: IS INITIALIZED;SUCCEEDED;Timestamp=7/9/2023 10:20:28 AM;Reason=yes\n",
      "\n",
      "wps_configure: Sending: b'Config Settings;IOParameters;SODERA;analyze=inquiryprocess-off|pagingnoconn-off|nullsandpolls-off|emptyle-on|anonymousadv-on|meshadv-off|lecrcerrors=on;capturetechnology=bredr-off|le-on|2m-on|spectrum-off|wifi-off'\n",
      "wps_configure: received: CONFIG SETTINGS;SUCCEEDED;Timestamp=7/9/2023 10:34:52 AM\n",
      "\n",
      "wps_start_record: Sending: b'Start Record'\n",
      "wps_start_record: Receiving: b'START RECORD;SUCCEEDED;Timestamp=7/9/2023 10:34:54 AM\\r\\n'\n",
      "wps_stop_record: Sending: b'Stop Record'\n",
      "wps_stop_record: receiving: b'STOP RECORD;SUCCEEDED;Timestamp=7/9/2023 10:35:03 AM\\r\\n'\n",
      "wps_analyze_capture: Sending: b'Start Analyze'\n",
      "wps_analyze_capture: received: START ANALYZE;SUCCEEDED;Timestamp=7/9/2023 10:35:04 AM\n",
      "\n",
      "wps_analyze_capture: Sending: b'IS ANALYZE COMPLETE'\n",
      "wps_analyze_capture: IS ANALYZE COMPLETE;SUCCEEDED;Timestamp=7/9/2023 10:35:04 AM;Reason=analyze_complete=no\n",
      "\n",
      "wps_analyze_capture: Parse of received: ['IS ANALYZE COMPLETE', 'SUCCEEDED', 'Timestamp=7/9/2023 10:35:04 AM', 'Reason=analyze_complete=no\\r\\n']. Not the desired result so still waiting.\n",
      "wps_analyze_capture: Sending: b'IS ANALYZE COMPLETE'\n",
      "wps_analyze_capture: IS ANALYZE COMPLETE;SUCCEEDED;Timestamp=7/9/2023 10:35:05 AM;Reason=analyze_complete=no\n",
      "\n",
      "wps_analyze_capture: Parse of received: ['IS ANALYZE COMPLETE', 'SUCCEEDED', 'Timestamp=7/9/2023 10:35:05 AM', 'Reason=analyze_complete=no\\r\\n']. Not the desired result so still waiting.\n",
      "wps_analyze_capture: Sending: b'IS ANALYZE COMPLETE'\n",
      "wps_analyze_capture: IS ANALYZE COMPLETE;SUCCEEDED;Timestamp=7/9/2023 10:35:06 AM;Reason=analyze_complete=no\n",
      "\n",
      "wps_analyze_capture: Parse of received: ['IS ANALYZE COMPLETE', 'SUCCEEDED', 'Timestamp=7/9/2023 10:35:06 AM', 'Reason=analyze_complete=no\\r\\n']. Not the desired result so still waiting.\n",
      "wps_analyze_capture: Sending: b'IS ANALYZE COMPLETE'\n",
      "wps_analyze_capture: IS ANALYZE COMPLETE;SUCCEEDED;Timestamp=7/9/2023 10:35:07 AM;Reason=analyze_complete=yes\n",
      "\n",
      "wps_analyze_capture: Sending: b'Stop Analyze'\n",
      "wps_analyze_capture: b'STOP ANALYZE;SUCCEEDED;Timestamp=7/9/2023 10:35:07 AM\\r\\n'\n",
      "wps_analyze_capture: QUERY STATE;SUCCEEDED;Timestamp=7/9/2023 10:35:07 AM;Reason=CAPTURE ACTIVE WITH DATA\n",
      "\n",
      "wps_analyze_capture: Parse of received: ['QUERY STATE', 'SUCCEEDED', 'Timestamp=7/9/2023 10:35:07 AM', 'Reason=CAPTURE ACTIVE WITH DATA\\r\\n']. Not the desired result so still waiting.\n",
      "wps_analyze_capture: QUERY STATE;SUCCEEDED;Timestamp=7/9/2023 10:35:08 AM;Reason=CAPTURE STOPPED|CurrentState=CAPTURE ACTIVE NO DATA\n",
      "\n",
      "wps_analyze_capture: Sending: b'Is Processing Complete'\n",
      "wps_analyze_capture: IS PROCESSING COMPLETE;SUCCEEDED;Timestamp=7/9/2023 10:35:08 AM;Reason=TRUE\n",
      "\n",
      "wps_save_capture: Sending: b'Save Capture;C:\\\\Users\\\\Public\\\\Documents\\\\share\\\\input\\\\le_capture_20230709_101937.cfa'\n",
      "wps_save_capture: b'SAVE CAPTURE;SUCCEEDED;Timestamp=7/9/2023 10:35:09 AM\\r\\n'\n"
     ]
    }
   ],
   "source": [
    "print('\\n'.join(wps_handle['log']))"
   ]
  },
  {
   "cell_type": "code",
   "execution_count": 25,
   "metadata": {},
   "outputs": [
    {
     "name": "stdout",
     "output_type": "stream",
     "text": [
      "Sending: b'Add Bookmark;string=le collect;frame=1'\n",
      "b'ADD BOOKMARK;SUCCEEDED;FRAME=1;Timestamp=6/25/2023 7:08:33 PM\\r\\n'\n"
     ]
    }
   ],
   "source": [
    "# Add a Bookmark\n",
    "bookmark_text = 'le collect'\n",
    "bookmark_frame = 1\n",
    "def wps_save_capture(handle, bookmark_frame, bookmark_text):\n",
    "    s = handle['socket']\n",
    "    MAX_TO_READ = handle['max_data_from_automation_server']\n",
    "    \n",
    "    FTE_CMD=f\"Add Bookmark;string={bookmark_text};frame={bookmark_frame}\"\n",
    "    send_data=FTE_CMD.encode(encoding='UTF-8',errors='strict')\n",
    "    log_entry = f\"wps_save_capture: Sending: {send_data}\"\n",
    "    handle['log'].append(log_entry)\n",
    "    \n",
    "    s.send(send_data)\n",
    "    data=s.recv(MAX_TO_READ)\n",
    "    log_entry = f\"wps_save_capture: {data}\"\n",
    "    handle['log'].append(log_entry)"
   ]
  }
 ],
 "metadata": {
  "kernelspec": {
   "display_name": "Python 3 (ipykernel)",
   "language": "python",
   "name": "python3"
  },
  "language_info": {
   "codemirror_mode": {
    "name": "ipython",
    "version": 3
   },
   "file_extension": ".py",
   "mimetype": "text/x-python",
   "name": "python",
   "nbconvert_exporter": "python",
   "pygments_lexer": "ipython3",
   "version": "3.10.4"
  }
 },
 "nbformat": 4,
 "nbformat_minor": 4
}
