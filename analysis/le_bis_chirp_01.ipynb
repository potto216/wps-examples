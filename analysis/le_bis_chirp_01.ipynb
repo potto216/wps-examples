{
 "cells": [
  {
   "cell_type": "code",
   "execution_count": null,
   "metadata": {},
   "outputs": [],
   "source": [
    "import nest_asyncio\n",
    "nest_asyncio.apply()\n",
    "\n",
    "import pyshark\n",
    "import os\n",
    "\n",
    "pcap_file = \"../data/le_bis/le_bis_chirp_01_select_01.pcapng\"\n",
    "\n",
    "cap = pyshark.FileCapture(pcap_file)\n",
    "cap.load_packets()  # Synchronously load all packets\n",
    "packets = list(cap)\n",
    "\n",
    "\n",
    "#cap.close()\n"
   ]
  },
  {
   "cell_type": "code",
   "execution_count": null,
   "metadata": {},
   "outputs": [],
   "source": [
    "if packets:\n",
    "    # Print basic packet info\n",
    "    print(f\"Packet Time: {packets[0].frame_info.time}\")\n",
    "    print(f\"Packet Length: {packets[0].length}\")\n",
    "    print(f\"Protocol: {packets[0].highest_layer}\")\n",
    "\n",
    "    # Print BTLE specific fields if available\n",
    "    if hasattr(packets[0], 'btle'):\n",
    "        #print(f\"Channel: {packets[0].btle.channel}\")\n",
    "        print(f\"Access Address: {packets[0].btle.access_address}\")\n",
    "        print(f\"CRC: {packets[0].btle.crc}\")\n",
    "else:\n",
    "    print(\"No packets found in capture file\")"
   ]
  },
  {
   "cell_type": "code",
   "execution_count": null,
   "metadata": {},
   "outputs": [],
   "source": [
    "import pandas as pd\n",
    "import numpy as np\n",
    "#from scapy.all import rdpcap\n",
    "#from scapy.layers.bluetooth import *\n",
    "#import scipy.optimize as optimize\n",
    "import pyshark as ps\n",
    "from dataclasses import dataclass\n",
    "from typing import List, Tuple, Dict\n",
    "import matplotlib.pyplot as plt\n",
    "import os\n",
    "\n",
    "pcap_file = \"../data/le_bis/le_bis_chirp_01_select_01.pcapng\"\n",
    "    \n",
    "# print the current working directory\n",
    "print(os.getcwd())\n",
    "\n",
    "#packets = rdpcap(pcap_file)\n",
    "# use pyshark to read the pcapng file\n",
    "#cap = ps.FileCapture(pcap_file)\n",
    "\n"
   ]
  },
  {
   "cell_type": "code",
   "execution_count": null,
   "metadata": {},
   "outputs": [],
   "source": [
    "# Initialize capture and load first packet\n",
    "cap = ps.FileCapture(pcap_file)\n",
    "packets = []\n",
    "try:\n",
    "    for packet in cap:\n",
    "        packets.append(packet)\n",
    "        break  # Get only first packet\n",
    "    \n",
    "    if packets:\n",
    "        # Print basic packet info\n",
    "        print(f\"Packet Time: {packets[0].frame_info.time}\")\n",
    "        print(f\"Packet Length: {packets[0].length}\")\n",
    "        print(f\"Protocol: {packets[0].highest_layer}\")\n",
    "\n",
    "        # Print BTLE specific fields if available\n",
    "        if hasattr(packets[0], 'btle'):\n",
    "            print(f\"Channel: {packets[0].btle.channel}\")\n",
    "            print(f\"Access Address: {packets[0].btle.access_address}\")\n",
    "            print(f\"CRC: {packets[0].btle.crc}\")\n",
    "    else:\n",
    "        print(\"No packets found in capture file\")\n",
    "\n",
    "finally:\n",
    "    cap.close()"
   ]
  },
  {
   "cell_type": "code",
   "execution_count": null,
   "metadata": {},
   "outputs": [],
   "source": [
    "packet = cap[0]\n",
    "\n",
    "# Print basic packet info\n",
    "print(f\"Packet Time: {packet.frame_info.time}\")\n",
    "print(f\"Packet Length: {packet.length}\")\n",
    "print(f\"Protocol: {packet.highest_layer}\")\n",
    "\n",
    "# Print BTLE specific fields if available\n",
    "if hasattr(packet, 'btle'):\n",
    "    print(f\"Channel: {packet.btle.channel}\")\n",
    "    print(f\"Access Address: {packet.btle.access_address}\")\n",
    "    print(f\"CRC: {packet.btle.crc}\")\n",
    "\n",
    "# Close capture when done\n",
    "#cap.close()"
   ]
  },
  {
   "cell_type": "code",
   "execution_count": null,
   "metadata": {},
   "outputs": [],
   "source": [
    "ble_data = []\n",
    "wifi_data = []\n",
    "zigbee_data = []\n",
    "\n",
    "for packet in packets:\n",
    "    timestamp = packet.time\n",
    "    if BTLEAdvertisingHdr in packet:\n",
    "        ble_data.append({\n",
    "            'timestamp': timestamp,\n",
    "            'channel': packet[BTLEAdvertisingHdr].channel,\n",
    "            'rssi': packet[BTLEAdvertisingHdr].rssi,\n",
    "            'type': 'ble'\n",
    "        })\n",
    "    # Add similar processing for WiFi and Zigbee packets"
   ]
  },
  {
   "cell_type": "code",
   "execution_count": null,
   "metadata": {},
   "outputs": [],
   "source": [
    "from datetime import datetime\n",
    "\n",
    "# Convert EDecimal timestamp to float first\n",
    "print(f\"Timestamp: {packets[0].time}\")\n",
    "timestamp = float(packets[0].time)\n",
    "dt = datetime.fromtimestamp(timestamp)\n",
    "\n",
    "# Format with date and time components\n",
    "formatted_time = dt.strftime(\"%Y-%m-%d %H:%M:%S.%f\")\n",
    "print(f\"Formatted time: {formatted_time}\")\n",
    "\n",
    "# Or access individual components\n",
    "print(f\"Components: {dt.year}-{dt.month:02d}-{dt.day:02d} {dt.hour:02d}:{dt.minute:02d}:{dt.second:02d}.{dt.microsecond}\")\n",
    "print (f\"Resolution is {dt.resolution}\")\n"
   ]
  },
  {
   "cell_type": "code",
   "execution_count": null,
   "metadata": {},
   "outputs": [],
   "source": [
    "from datetime import datetime, timedelta\n",
    "\n",
    "# Get full nanosecond precision from timestamp\n",
    "timestamp_whole = float(packets[0].time)\n",
    "fractional = packets[0].time - int(packets[0].time)\n",
    "nanoseconds = int(fractional * 1e9)\n",
    "\n",
    "# Create datetime object\n",
    "dt = datetime.fromtimestamp(int(timestamp_whole))\n",
    "\n",
    "# Format with nanosecond precision\n",
    "formatted_time = dt.strftime(\"%Y-%m-%d %H:%M:%S\") + f\".{nanoseconds:09d}\"\n",
    "print(f\"Timestamp with ns: {formatted_time}\")\n",
    "\n",
    "# Components with nanoseconds\n",
    "print(f\"Components: {dt.year}-{dt.month:02d}-{dt.day:02d} {dt.hour:02d}:{dt.minute:02d}:{dt.second:02d}.{nanoseconds:09d}\")\n",
    "print(f\"Resolution in ns: {timedelta(microseconds=1).total_seconds() * 1e9:.0f}\")"
   ]
  }
 ],
 "metadata": {
  "kernelspec": {
   "display_name": ".wps",
   "language": "python",
   "name": "python3"
  },
  "language_info": {
   "codemirror_mode": {
    "name": "ipython",
    "version": 3
   },
   "file_extension": ".py",
   "mimetype": "text/x-python",
   "name": "python",
   "nbconvert_exporter": "python",
   "pygments_lexer": "ipython3",
   "version": "3.12.8"
  }
 },
 "nbformat": 4,
 "nbformat_minor": 2
}
