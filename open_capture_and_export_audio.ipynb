{
 "cells": [
  {
   "cell_type": "code",
   "execution_count": 1,
   "metadata": {},
   "outputs": [],
   "source": [
    "import socket\n",
    "import time\n",
    "import os\n",
    "import sys\n",
    "import platform\n",
    "from pathlib import Path\n",
    "import datetime as datetime\n",
    "import subprocess\n",
    "import re\n",
    "\n",
    "module_path = os.path.abspath(os.path.join('./wpshelper'))\n",
    "if module_path not in sys.path:\n",
    "    sys.path.append(module_path)\n",
    "from wpshelper import wps_open, wps_open_capture, wps_get_available_streams_audio, wps_export_audio, wps_close\n"
   ]
  },
  {
   "cell_type": "code",
   "execution_count": 2,
   "metadata": {},
   "outputs": [],
   "source": [
    "\n",
    "# =======================START OF CONFIGURATION SECTION (USER MUST MODIFY TO MATCH THEIR SETTINGS)================\n",
    "# See the manual Automation Server Protocol.pdf for more details\n",
    "TCP_IP = '192.168.147.1'    # The IP address of the interface that the automation server is running on\n",
    "TCP_PORT = 22901        # The default port to talk with the automation server\n",
    "\n",
    "MAX_TO_READ = 1000\n",
    "\n",
    "# This will capture Bluetooth LE\n",
    "# This is described in the section \"IOParameters – Sodera and X500 of the Automation Server Protocol manual\n",
    "# IMPORTANT: This is ignored for the X240. For configurations that include one or more X240 devices, the capture \n",
    "# technology should be configured by using the appropriate datasource prior to starting capture via automation. \n",
    "# Configuration of capture technology and initiating firmware update are not supported via the automation interface. \n",
    "capture_technology = \"capturetechnology=bredr-off|le-on|2m-on|spectrum-off|wifi-off\"\n",
    "\n",
    "# Only one personality_key should be uncommented and it should be the device that is connected and powered up before\n",
    "# running the script. Additional personality keys to support other equipment and configurations \n",
    "# can be found under the section \"Start FTS\" in the Automation Server Protocol manual.\n",
    "#\n",
    "# Only uncomment one of the personality_key statements below:\n",
    "# personality_key = \"SODERA\"\n",
    "# personality_key = \"X240\"  \n",
    "# personality_key = \"X500\"\n",
    "personality_key = \"VIEW\"\n",
    "\n",
    "# Setup the path to the the location of FTS.exe. Change this to your directory\n",
    "wps_path=r'C:\\Program Files (x86)\\Teledyne LeCroy Wireless\\Wireless Protocol Suite 3.10'\n",
    "\n",
    "\n",
    "# This is the directory where the capture folder will be created. Make sure this path exists \n",
    "data_input_path=r'C:\\Users\\Public\\Documents\\share\\input'\n",
    "data_output_path=r'C:\\Users\\Public\\Documents\\share\\output'\n",
    "\n",
    "# This will be the name of the capture folder\n",
    "# Bluetooth LE Audio (LC3) Broadcast.cfax\n",
    "# Bluetooth LE Audio (LC3) Unicast.cfax\n",
    "capture_name = 'Bluetooth_LE_Audio_(LC3)_Broadcast'\n",
    "capture_name = 'Bluetooth_LE Audio_(LC3)_Unicast'\n",
    "\n",
    "# ===================================END OF CONFIGURATION SECTION=====================================\n",
    "\n",
    "# Automatically derive the following data\n",
    "personality_key = personality_key.strip()  # remove any spaces\n",
    "\n",
    "capture_absolute_filename =  data_input_path + '\\\\' +  capture_name + \".cfax\" \n",
    "capture_audio_export_filename =  data_output_path + '\\\\' +  capture_name  \n",
    "\n",
    "\n",
    "wps_executable_path = wps_path + '\\\\' +  'Executables\\\\Core'\n"
   ]
  },
  {
   "cell_type": "code",
   "execution_count": 3,
   "metadata": {},
   "outputs": [],
   "source": [
    "wps_handle = wps_open(tcp_ip=TCP_IP,tcp_port=TCP_PORT,max_to_read = 1000,wps_executable_path=wps_executable_path,personality_key=personality_key)"
   ]
  },
  {
   "cell_type": "code",
   "execution_count": 4,
   "metadata": {},
   "outputs": [],
   "source": [
    "wps_open_capture(wps_handle, capture_absolute_filename)"
   ]
  },
  {
   "cell_type": "code",
   "execution_count": 5,
   "metadata": {},
   "outputs": [],
   "source": [
    "#available_streams_audio=wps_get_available_streams_audio(wps_handle)\n",
    "#print(f\"Available audio streams: {available_streams_audio}\")"
   ]
  },
  {
   "cell_type": "code",
   "execution_count": 6,
   "metadata": {},
   "outputs": [],
   "source": [
    "wps_export_audio(wps_handle, capture_audio_export_filename, audio_streams=\"1&2\")"
   ]
  },
  {
   "cell_type": "code",
   "execution_count": 8,
   "metadata": {},
   "outputs": [],
   "source": [
    "wps_close(wps_handle)"
   ]
  }
 ],
 "metadata": {
  "kernelspec": {
   "display_name": "Python 3 (ipykernel)",
   "language": "python",
   "name": "python3"
  },
  "language_info": {
   "codemirror_mode": {
    "name": "ipython",
    "version": 3
   },
   "file_extension": ".py",
   "mimetype": "text/x-python",
   "name": "python",
   "nbconvert_exporter": "python",
   "pygments_lexer": "ipython3",
   "version": "3.10.4"
  }
 },
 "nbformat": 4,
 "nbformat_minor": 4
}
