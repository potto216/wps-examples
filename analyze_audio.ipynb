{
 "cells": [
  {
   "cell_type": "code",
   "execution_count": 1,
   "metadata": {},
   "outputs": [],
   "source": [
    "# Load the data\n",
    "import numpy as np\n",
    "from scipy.io.wavfile import read, write\n",
    "from scipy.signal import correlate\n",
    "import numpy as np\n",
    "import matplotlib.pyplot as plt\n",
    "\n"
   ]
  },
  {
   "cell_type": "code",
   "execution_count": null,
   "metadata": {},
   "outputs": [],
   "source": [
    "\n",
    "\n",
    "# Load the two WAV files\n",
    "fs1, audio1 = read('file1.wav')\n",
    "fs2, audio2 = read('file2.wav')\n",
    "\n",
    "# Ensure the sample rates are the same\n",
    "if fs1 != fs2:\n",
    "    raise ValueError(\"The two WAV files have different sample rates!\")\n",
    "\n",
    "# Find the correlation between the two signals\n",
    "# This will give an array that indicates for each lag value how well the signals match\n",
    "corr = correlate(audio1, audio2)\n",
    "\n",
    "# Find the maximum correlation index\n",
    "# This index indicates the best alignment (lag) of the two signals\n",
    "lag = np.argmax(corr)\n",
    "\n",
    "# If audio1 starts before audio2, then lag will be positive\n",
    "if lag > 0:\n",
    "    audio1 = audio1[lag:]\n",
    "    audio2 = audio2[:len(audio1)]\n",
    "\n",
    "# If audio2 starts before audio1, then lag will be negative\n",
    "elif lag < 0:\n",
    "    audio2 = audio2[-lag:]\n",
    "    audio1 = audio1[:len(audio2)]\n",
    "\n",
    "# Trim a fixed number of samples from start and end (e.g., 1000 samples)\n",
    "trim_samples = 1000\n",
    "audio1 = audio1[trim_samples:-trim_samples]\n",
    "audio2 = audio2[trim_samples:-trim_samples]\n",
    "\n",
    "# Now audio1 and audio2 are aligned and have the same length\n",
    "# Save them if needed\n",
    "write('aligned_file1.wav', fs1, audio1)\n",
    "write('aligned_file2.wav', fs2, audio2)\n"
   ]
  }
 ],
 "metadata": {
  "kernelspec": {
   "display_name": ".wps",
   "language": "python",
   "name": "python3"
  },
  "language_info": {
   "codemirror_mode": {
    "name": "ipython",
    "version": 3
   },
   "file_extension": ".py",
   "mimetype": "text/x-python",
   "name": "python",
   "nbconvert_exporter": "python",
   "pygments_lexer": "ipython3",
   "version": "3.10.4"
  },
  "orig_nbformat": 4
 },
 "nbformat": 4,
 "nbformat_minor": 2
}
